{
 "cells": [
  {
   "cell_type": "markdown",
   "id": "fbaa914b",
   "metadata": {},
   "source": [
    "\n",
    "# Proyecto de Ciencia de Datos - Parte I\n",
    "## Dataset: Ames Housing\n",
    "\n",
    "### Abstract\n",
    "\n",
    "El presente proyecto tiene como objetivo analizar el dataset **Ames Housing**, una base de datos que contiene información detallada sobre más de 2900 propiedades residenciales vendidas en Ames, Iowa, entre 2006 y 2010. Este dataset es una alternativa moderna al clásico \"Boston Housing\" y se ha convertido en un recurso popular para prácticas de regresión, exploración y visualización de datos.\n",
    "\n",
    "Se estudiarán diferentes variables que influyen en el **precio de venta de las casas (`SalePrice`)**, considerando tanto características físicas (superficie, número de habitaciones, calidad de materiales) como categóricas (ubicación, tipo de vivienda, estado general).\n",
    "\n",
    "A través de gráficos univariados, bivariados y multivariados, acompañados de resúmenes estadísticos, se buscará responder a preguntas clave como:\n",
    "- ¿Qué variables están más asociadas al precio?\n",
    "- ¿Cómo varía el precio según la calidad general o la ubicación?\n",
    "- ¿Existen relaciones no lineales o valores atípicos significativos?\n",
    "\n",
    "Este análisis será útil tanto para entender mejor el comportamiento del mercado inmobiliario en Ames como para practicar habilidades de ciencia de datos, tales como limpieza de datos, visualización y formulación de hipótesis.\n"
   ]
  },
  {
   "cell_type": "code",
   "execution_count": null,
   "id": "1331cb86",
   "metadata": {},
   "outputs": [],
   "source": [
    "\n",
    "import pandas as pd\n",
    "import matplotlib.pyplot as plt\n",
    "import seaborn as sns\n",
    "\n",
    "sns.set(style=\"whitegrid\")\n",
    "df = pd.read_csv(\"AmesHousing.csv\")\n",
    "df.shape\n"
   ]
  },
  {
   "cell_type": "code",
   "execution_count": null,
   "id": "905b3b32",
   "metadata": {},
   "outputs": [],
   "source": [
    "\n",
    "# Primer vistazo al dataset\n",
    "df.head()\n"
   ]
  },
  {
   "cell_type": "code",
   "execution_count": null,
   "id": "9ea1f416",
   "metadata": {},
   "outputs": [],
   "source": [
    "df.describe()"
   ]
  },
  {
   "cell_type": "code",
   "execution_count": null,
   "id": "5f8652ae",
   "metadata": {},
   "outputs": [],
   "source": [
    "\n",
    "# Identificación de valores nulos\n",
    "df.isnull().sum().sort_values(ascending=False).head(10)\n"
   ]
  },
  {
   "cell_type": "markdown",
   "id": "814e764c",
   "metadata": {},
   "source": [
    "\n",
    "## Preguntas e hipótesis de interés\n",
    "\n",
    "1. ¿Las casas con mayor superficie habitable (`GrLivArea`) tienen precios más altos?\n",
    "2. ¿Existe una relación positiva entre la calidad general (`OverallQual`) y el precio (`SalePrice`)?\n",
    "3. ¿Cómo influye el barrio (`Neighborhood`) en el precio promedio de las viviendas?\n",
    "4. ¿Existen valores atípicos que afectan la relación entre superficie y precio?\n",
    "5. ¿Qué tan distribuidos están los precios y qué sesgo tiene su distribución?\n"
   ]
  },
  {
   "cell_type": "code",
   "execution_count": null,
   "id": "97330541",
   "metadata": {},
   "outputs": [],
   "source": [
    "\n",
    "# Histograma de precios\n",
    "plt.figure(figsize=(10, 5))\n",
    "sns.histplot(df['SalePrice'], kde=True)\n",
    "plt.title('Distribución del precio de venta')\n",
    "plt.xlabel('Precio de venta')\n",
    "plt.ylabel('Frecuencia')\n",
    "plt.show()\n"
   ]
  },
  {
   "cell_type": "code",
   "execution_count": null,
   "id": "4368277a",
   "metadata": {},
   "outputs": [],
   "source": [
    "\n",
    "# Relación entre superficie y precio\n",
    "plt.figure(figsize=(10, 6))\n",
    "sns.scatterplot(x='GrLivArea', y='SalePrice', hue='OverallQual', data=df)\n",
    "plt.title('Superficie habitable vs Precio de venta (color según calidad)')\n",
    "plt.show()\n"
   ]
  },
  {
   "cell_type": "code",
   "execution_count": null,
   "id": "687befe0",
   "metadata": {},
   "outputs": [],
   "source": [
    "\n",
    "# Precio promedio por barrio (top 10)\n",
    "top_neigh = df.groupby('Neighborhood')['SalePrice'].mean().sort_values(ascending=False).head(10)\n",
    "sns.barplot(x=top_neigh.values, y=top_neigh.index)\n",
    "plt.title('Top 10 barrios con mayor precio promedio')\n",
    "plt.xlabel('Precio promedio')\n",
    "plt.ylabel('Barrio')\n",
    "plt.show()\n"
   ]
  },
  {
   "cell_type": "code",
   "execution_count": null,
   "id": "d7c6c494",
   "metadata": {},
   "outputs": [],
   "source": [
    "\n",
    "# Distribución del precio por calidad general\n",
    "plt.figure(figsize=(10, 5))\n",
    "sns.boxplot(x='OverallQual', y='SalePrice', data=df)\n",
    "plt.title('Precio de venta según calidad general')\n",
    "plt.show()\n"
   ]
  }
 ],
 "metadata": {},
 "nbformat": 4,
 "nbformat_minor": 5
}
